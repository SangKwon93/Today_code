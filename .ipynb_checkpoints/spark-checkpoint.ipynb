{
 "cells": [
  {
   "cell_type": "code",
   "execution_count": 33,
   "metadata": {},
   "outputs": [],
   "source": [
    "import pandas as pd\n",
    "# 한글깨짐 방지\n",
    "#!apt -qq -y install fonts-nanum > /dev/null\n",
    "import seaborn as sns\n",
    "import matplotlib.pyplot as plt\n",
    "import matplotlib.font_manager as fm\n",
    "import pandas as pd\n",
    "import numpy as np\n",
    "import matplotlib.pyplot as plt\n",
    "import seaborn as sns\n",
    "plt.rcParams['font.family'] = 'Malgun Gothic'"
   ]
  },
  {
   "cell_type": "code",
   "execution_count": 1,
   "metadata": {},
   "outputs": [],
   "source": [
    "import findspark\n",
    "\n",
    "findspark.init()"
   ]
  },
  {
   "cell_type": "code",
   "execution_count": 2,
   "metadata": {},
   "outputs": [],
   "source": [
    "import pymysql"
   ]
  },
  {
   "cell_type": "code",
   "execution_count": 3,
   "metadata": {},
   "outputs": [],
   "source": [
    "import pandas as pd\n",
    "import pymongo\n",
    "from pymongo import MongoClient"
   ]
  },
  {
   "cell_type": "code",
   "execution_count": 4,
   "metadata": {},
   "outputs": [
    {
     "name": "stderr",
     "output_type": "stream",
     "text": [
      "WARNING:root:'PYARROW_IGNORE_TIMEZONE' environment variable was not set. It is required to set this environment variable to '1' in both driver and executor sides if you use pyarrow>=2.0.0. pandas-on-Spark will set it for you but it does not work if there is a Spark context already launched.\n"
     ]
    }
   ],
   "source": [
    "import pyspark.pandas as ps"
   ]
  },
  {
   "cell_type": "code",
   "execution_count": 5,
   "metadata": {},
   "outputs": [],
   "source": [
    "from pyspark.sql import SparkSession\n",
    "# spark = SparkSession.builder.master(\"local\").appName(\"spark-dataframe\").getOrCreate()"
   ]
  },
  {
   "cell_type": "code",
   "execution_count": 6,
   "metadata": {},
   "outputs": [],
   "source": [
    "# from pyspark import SparkConf, SparkContext\n",
    "# conf = SparkConf().setMaster(\"local\").setAppName(\"spark_sql_basic\")\n",
    "# sc = SparkContext(conf=conf)"
   ]
  },
  {
   "cell_type": "code",
   "execution_count": 7,
   "metadata": {},
   "outputs": [],
   "source": [
    "# 데이터가 매우 큰 경우 강제로 사용할 메모리의 용량을 설정(기준 2기가)\n",
    "MAX_MEMORY = \"5g\" # 인스턴스에 여러명이 붙어 있어서 안될 수 있지만 단일 인스턴스 때 사용가능.\n",
    "\n",
    "spark = SparkSession.builder.appName(\"movie-recommendation\")\\\n",
    "     .config(\"spark.executor.memory\", MAX_MEMORY).config(\"spark.driver.memory\",MAX_MEMORY).getOrCreate()\n",
    "# 메모리 오류나면 이줄과 아래줄 주석처리진행."
   ]
  },
  {
   "cell_type": "code",
   "execution_count": 8,
   "metadata": {},
   "outputs": [],
   "source": [
    "file='C:/Users/psk/3rd_pj/kream_product2.csv'\n",
    "file1='C:/Users/psk/3rd_backup/kream_price.csv'"
   ]
  },
  {
   "cell_type": "code",
   "execution_count": 9,
   "metadata": {},
   "outputs": [
    {
     "data": {
      "text/plain": [
       "DataFrame[_id: string, brand: string, prod_kr_name: string, rescent_price: int, model_no: string, release_date: string, colors: string, release_price: int, instant_buy_price: int, instant_sell_price: int, img_url: string, OG: int, Retro: int, SP: int, QS: int, SB: int, SE: int, Chicago: int, High: int, Mid: int, Low: int, Jordan 1: int, Jordan 2: int, Jordan 3: int, Jordan 4: int, Jordan 5: int, Jordan 6: int, Jordan 7: int, Jordan 8: int, Jordan 9: int, Jordan 10: int, Jordan 11: int, Jordan 13: int, Jordan 14: int, Jordan 15: int, Jordan 16: int, Jordan 17: int, Jordan 18: int, Jordan 19: int, Jordan 20: int, Jordan 21: int, Jordan 22: int, Jordan 23: int, 갈색: double, 검정: double, 고동: double, 남색: double, 노랑: double, 모카: double, 민트: double, 발블: double, 밝은회색: double, 베이지: double, 보라: double, 분홍: double, 빨강: double, 살구: double, 아이보리: double, 연두: double, 자몽: double, 주황: double, 진한회색: double, 청록: double, 청회색: double, 초록: double, 파랑: double, 하늘: double, 황갈색: double, 황토: double, 회색: double, 흰색: double, Travis Scott: int, A Ma Maniere: int, Union: int, J Balvin: int, Maison Chateau Rouge: int, Off-White: int, Fragment: int, Trophy Room: int, Dior: int, Nina Chanel Abney: int, League of Legends: int, Billie Eilish: int, Clot: int, SoleFly: int, Paris Saint-Germain: int, Aleali May: int, Russell Westbrook: int, Lance Mountain: int, Patta: int, Supreme: int, Levis: int, Blue The Great: int, Ghetto Gastro: int, Social Status: int, Facetasm: int, SNS: int, Melody Ehsani: int, Anna Wintour: int, Kaws: int, DSM: int, Converse: int, Titan: int, Jayson Tatum: int, Olivia Kim: int, Nike: int, Sheila Rashid: int, Comme des Garcons Homme: int, Carmelo Anthony: int, Rag & Bone: int, Vogue: int, PSNY: int, Serena Williams: int, Pendleton: int, Carhartt: int, Rox Brown: int]"
      ]
     },
     "execution_count": 9,
     "metadata": {},
     "output_type": "execute_result"
    }
   ],
   "source": [
    "sdf = spark.read.csv(f\"file:///{file}\",inferSchema=True, header=True)\n",
    "sdf.limit(3)\n"
   ]
  },
  {
   "cell_type": "code",
   "execution_count": 10,
   "metadata": {},
   "outputs": [
    {
     "name": "stdout",
     "output_type": "stream",
     "text": [
      "+--------------------+----------+----------+---------+---------+\n",
      "|                 _id|  model_no|last_price|max_price|min_price|\n",
      "+--------------------+----------+----------+---------+---------+\n",
      "|Jordan 1 Low Vint...|553558-053|    228000|   228000|   206000|\n",
      "|Jordan 1 x Travis...|DM7866-140|   1789000|  4000000|  1146000|\n",
      "|Jordan 1 Retro Hi...|555088-105|    825000|   897000|   304000|\n",
      "+--------------------+----------+----------+---------+---------+\n",
      "only showing top 3 rows\n",
      "\n"
     ]
    }
   ],
   "source": [
    "price1 = spark.read.csv(f\"file:///{file1}\",inferSchema=True, header=True)\n",
    "price1.show(3)"
   ]
  },
  {
   "cell_type": "code",
   "execution_count": 11,
   "metadata": {},
   "outputs": [],
   "source": [
    "sdf.createOrReplaceTempView(\"name\")\n",
    "price1.createOrReplaceTempView(\"price\")"
   ]
  },
  {
   "cell_type": "code",
   "execution_count": 12,
   "metadata": {},
   "outputs": [
    {
     "name": "stdout",
     "output_type": "stream",
     "text": [
      "+--------------------+-------------+-------------+---+-----+---+\n",
      "|                 _id|rescent_price|release_price| OG|Retro| SP|\n",
      "+--------------------+-------------+-------------+---+-----+---+\n",
      "|Jordan 1 Low Vint...|       200000|       129000|  0|    0|  0|\n",
      "|Jordan 1 x Travis...|      1555000|       189000|  1|    1|  1|\n",
      "|Jordan 1 Retro Hi...|       702000|       199000|  1|    1|  0|\n",
      "|Jordan 4 Retro Wh...|       312000|       249000|  0|    1|  0|\n",
      "|Jordan 1 Retro Hi...|       244000|       209000|  1|    1|  0|\n",
      "|Jordan 1 Low Golf...|       336000|       179000|  0|    0|  0|\n",
      "|Jordan 1 Mid Ligh...|       215000|       149000|  0|    0|  0|\n",
      "|(W) Jordan 1 Elev...|       265000|       159000|  0|    0|  0|\n",
      "|Jordan 1 Retro Hi...|       387000|       199000|  1|    1|  0|\n",
      "|Jordan 1 Low OG S...|       372000|       159000|  1|    0|  0|\n",
      "|Jordan 1 Low Golf...|       352000|       179000|  0|    0|  0|\n",
      "|(W) Jordan 1 Low ...|       201000|       129000|  0|    0|  0|\n",
      "|(W) Jordan 1 Low ...|       345000|       119000|  0|    0|  0|\n",
      "|(W) Jordan 1 Low ...|       219000|       129000|  0|    0|  0|\n",
      "|Jordan 1 Low Golf...|       184000|       179000|  0|    0|  0|\n",
      "|(W) Jordan 1 Mid ...|       202000|       149000|  0|    0|  0|\n",
      "|(W) Jordan 1 Mid ...|       360000|       139000|  0|    0|  0|\n",
      "|Jordan 1 Low Golf...|       179000|       179000|  0|    0|  0|\n",
      "|Jordan 1 Low Golf...|       249000|       179000|  0|    0|  0|\n",
      "|Jordan 1 x A Ma M...|       295000|       239000|  1|    1|  1|\n",
      "+--------------------+-------------+-------------+---+-----+---+\n",
      "only showing top 20 rows\n",
      "\n"
     ]
    }
   ],
   "source": [
    "query='''select _id,rescent_price,release_price,OG,Retro,SP\n",
    "from name\n",
    "'''\n",
    "spark.sql(query).show()"
   ]
  },
  {
   "cell_type": "code",
   "execution_count": 57,
   "metadata": {},
   "outputs": [
    {
     "name": "stdout",
     "output_type": "stream",
     "text": [
      "+--------------------+---+-----+---+----------+----------+\n",
      "|                 _id| OG|Retro| SP|  model_no|last_price|\n",
      "+--------------------+---+-----+---+----------+----------+\n",
      "|Jordan 1 Low Vint...|  0|    0|  0|553558-053|    228000|\n",
      "|Jordan 1 x Travis...|  1|    1|  1|DM7866-140|   1789000|\n",
      "|Jordan 1 Retro Hi...|  1|    1|  0|555088-105|    825000|\n",
      "|Jordan 4 Retro Wh...|  0|    1|  0|DH6927-111|    309000|\n",
      "|Jordan 1 Retro Hi...|  1|    1|  0|555088-108|    294000|\n",
      "|Jordan 1 Low Golf...|  0|    0|  0|DD9315-002|    395000|\n",
      "|Jordan 1 Mid Ligh...|  0|    0|  0|554724-078|    210000|\n",
      "|(W) Jordan 1 Elev...|  0|    0|  0|DH7004-100|    260000|\n",
      "|Jordan 1 Retro Hi...|  1|    1|  0|555088-134|    780000|\n",
      "|Jordan 1 Low OG S...|  1|    0|  0|CZ0790-801|    385000|\n",
      "|Jordan 1 Low Golf...|  0|    0|  0|DD9315-600|    450000|\n",
      "|(W) Jordan 1 Low ...|  0|    0|  0|DC0774-041|    259000|\n",
      "|(W) Jordan 1 Low ...|  0|    0|  0|DC0774-105|    356000|\n",
      "|(W) Jordan 1 Low ...|  0|    0|  0|DC0774-114|    192000|\n",
      "|Jordan 1 Low Golf...|  0|    0|  0|DD9315-800|    319000|\n",
      "|(W) Jordan 1 Mid ...|  0|    0|  0|BQ6472-141|    194000|\n",
      "|(W) Jordan 1 Mid ...|  0|    0|  0|BQ6472-105|    290000|\n",
      "|Jordan 1 Low Golf...|  0|    0|  0|DD9315-101|    330000|\n",
      "|Jordan 1 Low Golf...|  0|    0|  0|DD9315-100|    290000|\n",
      "|Jordan 1 x A Ma M...|  1|    1|  1|DO7097-100|    260000|\n",
      "+--------------------+---+-----+---+----------+----------+\n",
      "only showing top 20 rows\n",
      "\n"
     ]
    }
   ],
   "source": [
    "query='''\n",
    "select A._id,A.OG,A.Retro,A.SP,B.model_no,B.last_price\n",
    "from(select _id,rescent_price,release_price,OG,Retro,SP\n",
    "from name) A\n",
    "left join price B\n",
    "on A._id=B._id\n",
    "'''\n",
    "t1 = spark.sql(query)\n",
    "t1.show()"
   ]
  },
  {
   "cell_type": "code",
   "execution_count": 59,
   "metadata": {},
   "outputs": [
    {
     "ename": "ParseException",
     "evalue": "\nmismatched input 'when' expecting {')', ','}(line 2, pos 16)\n\n== SQL ==\n\nselect sum(case when 'OG' in _id then 1 else 0 end) OG_count,\n----------------^^^\n       sum(case when 'Retro' in _id then 1 else 0 end) Retro_count,\n       sum(case when 'SP' in _id than 1 else 0 end) SP_count,\n\nfrom(select A.OG,A.Retro,A.SP,B.model_no,B.last_price\nfrom(select _id,rescent_price,release_price,OG,Retro,SP\nfrom name) A\nleft join price B\non A._id=B._id) K\n",
     "output_type": "error",
     "traceback": [
      "\u001b[1;31m---------------------------------------------------------------------------\u001b[0m",
      "\u001b[1;31mParseException\u001b[0m                            Traceback (most recent call last)",
      "\u001b[1;32mc:\\Users\\psk\\3rd_backup\\mysql_conn\\Spark\\spark.ipynb 셀 15\u001b[0m in \u001b[0;36m<cell line: 12>\u001b[1;34m()\u001b[0m\n\u001b[0;32m      <a href='vscode-notebook-cell:/c%3A/Users/psk/3rd_backup/mysql_conn/Spark/spark.ipynb#X50sZmlsZQ%3D%3D?line=0'>1</a>\u001b[0m query\u001b[39m=\u001b[39m\u001b[39m'''\u001b[39m\n\u001b[0;32m      <a href='vscode-notebook-cell:/c%3A/Users/psk/3rd_backup/mysql_conn/Spark/spark.ipynb#X50sZmlsZQ%3D%3D?line=1'>2</a>\u001b[0m \u001b[39mselect sum(case when \u001b[39m\u001b[39m'\u001b[39m\u001b[39mOG\u001b[39m\u001b[39m'\u001b[39m\u001b[39m in _id then 1 else 0 end) OG_count,\u001b[39m\n\u001b[0;32m      <a href='vscode-notebook-cell:/c%3A/Users/psk/3rd_backup/mysql_conn/Spark/spark.ipynb#X50sZmlsZQ%3D%3D?line=2'>3</a>\u001b[0m \u001b[39m       sum(case when \u001b[39m\u001b[39m'\u001b[39m\u001b[39mRetro\u001b[39m\u001b[39m'\u001b[39m\u001b[39m in _id then 1 else 0 end) Retro_count,\u001b[39m\n\u001b[1;32m   (...)\u001b[0m\n\u001b[0;32m     <a href='vscode-notebook-cell:/c%3A/Users/psk/3rd_backup/mysql_conn/Spark/spark.ipynb#X50sZmlsZQ%3D%3D?line=9'>10</a>\u001b[0m \u001b[39mon A._id=B._id) K\u001b[39m\n\u001b[0;32m     <a href='vscode-notebook-cell:/c%3A/Users/psk/3rd_backup/mysql_conn/Spark/spark.ipynb#X50sZmlsZQ%3D%3D?line=10'>11</a>\u001b[0m \u001b[39m'''\u001b[39m\n\u001b[1;32m---> <a href='vscode-notebook-cell:/c%3A/Users/psk/3rd_backup/mysql_conn/Spark/spark.ipynb#X50sZmlsZQ%3D%3D?line=11'>12</a>\u001b[0m spark\u001b[39m.\u001b[39;49msql(query)\u001b[39m.\u001b[39mshow()\n",
      "File \u001b[1;32mC:\\Spark\\python\\pyspark\\sql\\session.py:723\u001b[0m, in \u001b[0;36mSparkSession.sql\u001b[1;34m(self, sqlQuery)\u001b[0m\n\u001b[0;32m    707\u001b[0m \u001b[39mdef\u001b[39;00m \u001b[39msql\u001b[39m(\u001b[39mself\u001b[39m, sqlQuery):\n\u001b[0;32m    708\u001b[0m     \u001b[39m\"\"\"Returns a :class:`DataFrame` representing the result of the given query.\u001b[39;00m\n\u001b[0;32m    709\u001b[0m \n\u001b[0;32m    710\u001b[0m \u001b[39m    .. versionadded:: 2.0.0\u001b[39;00m\n\u001b[1;32m   (...)\u001b[0m\n\u001b[0;32m    721\u001b[0m \u001b[39m    [Row(f1=1, f2='row1'), Row(f1=2, f2='row2'), Row(f1=3, f2='row3')]\u001b[39;00m\n\u001b[0;32m    722\u001b[0m \u001b[39m    \"\"\"\u001b[39;00m\n\u001b[1;32m--> 723\u001b[0m     \u001b[39mreturn\u001b[39;00m DataFrame(\u001b[39mself\u001b[39;49m\u001b[39m.\u001b[39;49m_jsparkSession\u001b[39m.\u001b[39;49msql(sqlQuery), \u001b[39mself\u001b[39m\u001b[39m.\u001b[39m_wrapped)\n",
      "File \u001b[1;32mC:\\Spark\\python\\lib\\py4j-0.10.9.2-src.zip\\py4j\\java_gateway.py:1309\u001b[0m, in \u001b[0;36mJavaMember.__call__\u001b[1;34m(self, *args)\u001b[0m\n\u001b[0;32m   1303\u001b[0m command \u001b[39m=\u001b[39m proto\u001b[39m.\u001b[39mCALL_COMMAND_NAME \u001b[39m+\u001b[39m\\\n\u001b[0;32m   1304\u001b[0m     \u001b[39mself\u001b[39m\u001b[39m.\u001b[39mcommand_header \u001b[39m+\u001b[39m\\\n\u001b[0;32m   1305\u001b[0m     args_command \u001b[39m+\u001b[39m\\\n\u001b[0;32m   1306\u001b[0m     proto\u001b[39m.\u001b[39mEND_COMMAND_PART\n\u001b[0;32m   1308\u001b[0m answer \u001b[39m=\u001b[39m \u001b[39mself\u001b[39m\u001b[39m.\u001b[39mgateway_client\u001b[39m.\u001b[39msend_command(command)\n\u001b[1;32m-> 1309\u001b[0m return_value \u001b[39m=\u001b[39m get_return_value(\n\u001b[0;32m   1310\u001b[0m     answer, \u001b[39mself\u001b[39;49m\u001b[39m.\u001b[39;49mgateway_client, \u001b[39mself\u001b[39;49m\u001b[39m.\u001b[39;49mtarget_id, \u001b[39mself\u001b[39;49m\u001b[39m.\u001b[39;49mname)\n\u001b[0;32m   1312\u001b[0m \u001b[39mfor\u001b[39;00m temp_arg \u001b[39min\u001b[39;00m temp_args:\n\u001b[0;32m   1313\u001b[0m     temp_arg\u001b[39m.\u001b[39m_detach()\n",
      "File \u001b[1;32mC:\\Spark\\python\\pyspark\\sql\\utils.py:117\u001b[0m, in \u001b[0;36mcapture_sql_exception.<locals>.deco\u001b[1;34m(*a, **kw)\u001b[0m\n\u001b[0;32m    113\u001b[0m converted \u001b[39m=\u001b[39m convert_exception(e\u001b[39m.\u001b[39mjava_exception)\n\u001b[0;32m    114\u001b[0m \u001b[39mif\u001b[39;00m \u001b[39mnot\u001b[39;00m \u001b[39misinstance\u001b[39m(converted, UnknownException):\n\u001b[0;32m    115\u001b[0m     \u001b[39m# Hide where the exception came from that shows a non-Pythonic\u001b[39;00m\n\u001b[0;32m    116\u001b[0m     \u001b[39m# JVM exception message.\u001b[39;00m\n\u001b[1;32m--> 117\u001b[0m     \u001b[39mraise\u001b[39;00m converted \u001b[39mfrom\u001b[39;00m \u001b[39mNone\u001b[39m\n\u001b[0;32m    118\u001b[0m \u001b[39melse\u001b[39;00m:\n\u001b[0;32m    119\u001b[0m     \u001b[39mraise\u001b[39;00m\n",
      "\u001b[1;31mParseException\u001b[0m: \nmismatched input 'when' expecting {')', ','}(line 2, pos 16)\n\n== SQL ==\n\nselect sum(case when 'OG' in _id then 1 else 0 end) OG_count,\n----------------^^^\n       sum(case when 'Retro' in _id then 1 else 0 end) Retro_count,\n       sum(case when 'SP' in _id than 1 else 0 end) SP_count,\n\nfrom(select A.OG,A.Retro,A.SP,B.model_no,B.last_price\nfrom(select _id,rescent_price,release_price,OG,Retro,SP\nfrom name) A\nleft join price B\non A._id=B._id) K\n"
     ]
    }
   ],
   "source": [
    "query='''\n",
    "select *\n",
    "    sum(case when 'OG' in _id then 1 else 0 end) OG_count,\n",
    "       sum(case when 'Retro' in _id then 1 else 0 end) Retro_count,\n",
    "       sum(case when 'SP' in _id than 1 else 0 end) SP_count,\n",
    "\n",
    "from(select A.OG,A.Retro,A.SP,B.model_no,B.last_price\n",
    "from(select _id,rescent_price,release_price,OG,Retro,SP\n",
    "from name) A\n",
    "left join price B\n",
    "on A._id=B._id) as K\n",
    "'''\n",
    "spark.sql(query).show()\n"
   ]
  },
  {
   "cell_type": "code",
   "execution_count": 14,
   "metadata": {},
   "outputs": [
    {
     "name": "stdout",
     "output_type": "stream",
     "text": [
      "+---+-----------------+\n",
      "| OG|  avg(last_price)|\n",
      "+---+-----------------+\n",
      "|  1|695176.4705882353|\n",
      "|  0|311603.0341340076|\n",
      "+---+-----------------+\n",
      "\n"
     ]
    }
   ],
   "source": [
    "t1.groupby('OG').mean('last_price').show()"
   ]
  },
  {
   "cell_type": "code",
   "execution_count": 15,
   "metadata": {},
   "outputs": [
    {
     "name": "stdout",
     "output_type": "stream",
     "text": [
      "+-----+-----------------+\n",
      "|Retro|  avg(last_price)|\n",
      "+-----+-----------------+\n",
      "|    1|439956.3318777293|\n",
      "|    0|282530.9734513274|\n",
      "+-----+-----------------+\n",
      "\n"
     ]
    }
   ],
   "source": [
    "t1.groupby('Retro').mean('last_price').show()"
   ]
  },
  {
   "cell_type": "code",
   "execution_count": 16,
   "metadata": {},
   "outputs": [
    {
     "name": "stdout",
     "output_type": "stream",
     "text": [
      "+---+-----------------+\n",
      "| SP|  avg(last_price)|\n",
      "+---+-----------------+\n",
      "|  1|648763.1578947369|\n",
      "|  0|349255.7339449541|\n",
      "+---+-----------------+\n",
      "\n"
     ]
    }
   ],
   "source": [
    "t1.groupby('SP').mean('last_price').show()"
   ]
  },
  {
   "cell_type": "code",
   "execution_count": 18,
   "metadata": {},
   "outputs": [
    {
     "data": {
      "text/plain": [
       "[('Retro', '458'), ('SP', '38'), ('OG', '119'), ('Others', '290')]"
      ]
     },
     "execution_count": 18,
     "metadata": {},
     "output_type": "execute_result"
    }
   ],
   "source": [
    "sample_1 = [('Retro','458'),('SP','38'),('OG','119'),('Others','290')]\n",
    "sample_1"
   ]
  },
  {
   "cell_type": "code",
   "execution_count": 21,
   "metadata": {},
   "outputs": [],
   "source": [
    "sample_2={'series':['Retro','SP','OG','Others'],\n",
    "          'count':[458,38,119,290]}"
   ]
  },
  {
   "cell_type": "code",
   "execution_count": 24,
   "metadata": {},
   "outputs": [
    {
     "name": "stdout",
     "output_type": "stream",
     "text": [
      "+------+-----+\n",
      "|series|count|\n",
      "+------+-----+\n",
      "| Retro|  458|\n",
      "|    SP|   38|\n",
      "|    OG|  119|\n",
      "|Others|  290|\n",
      "+------+-----+\n",
      "\n"
     ]
    }
   ],
   "source": [
    "tmp1 = pd.DataFrame(sample_2)\n",
    "series_sdf=spark.createDataFrame(tmp1)\n",
    "series_sdf.show()"
   ]
  },
  {
   "cell_type": "code",
   "execution_count": 31,
   "metadata": {},
   "outputs": [],
   "source": [
    "sample_3={'series':['Retro','SP','OG','Others'],\n",
    "          'benefit':[203,290,277,171]}"
   ]
  },
  {
   "cell_type": "code",
   "execution_count": 32,
   "metadata": {},
   "outputs": [
    {
     "name": "stdout",
     "output_type": "stream",
     "text": [
      "+------+-------+\n",
      "|series|benefit|\n",
      "+------+-------+\n",
      "| Retro|    203|\n",
      "|    SP|    290|\n",
      "|    OG|    277|\n",
      "|Others|    171|\n",
      "+------+-------+\n",
      "\n"
     ]
    }
   ],
   "source": [
    "tmp3 = pd.DataFrame(sample_3)\n",
    "series_3=spark.createDataFrame(tmp3)\n",
    "series_3.show()"
   ]
  },
  {
   "cell_type": "code",
   "execution_count": 36,
   "metadata": {},
   "outputs": [],
   "source": [
    "import seaborn as sns\n",
    "import matplotlib.pyplot as plt"
   ]
  },
  {
   "cell_type": "code",
   "execution_count": 38,
   "metadata": {},
   "outputs": [
    {
     "ename": "ValueError",
     "evalue": "'tmp3' is not one of the example datasets.",
     "output_type": "error",
     "traceback": [
      "\u001b[1;31m---------------------------------------------------------------------------\u001b[0m",
      "\u001b[1;31mValueError\u001b[0m                                Traceback (most recent call last)",
      "\u001b[1;32mc:\\Users\\psk\\3rd_backup\\mysql_conn\\Spark\\spark.ipynb 셀 24\u001b[0m in \u001b[0;36m<cell line: 1>\u001b[1;34m()\u001b[0m\n\u001b[1;32m----> <a href='vscode-notebook-cell:/c%3A/Users/psk/3rd_backup/mysql_conn/Spark/spark.ipynb#X46sZmlsZQ%3D%3D?line=0'>1</a>\u001b[0m dd\u001b[39m=\u001b[39msns\u001b[39m.\u001b[39;49mload_dataset(\u001b[39m'\u001b[39;49m\u001b[39mtmp3\u001b[39;49m\u001b[39m'\u001b[39;49m)\n",
      "File \u001b[1;32mc:\\Users\\psk\\anaconda3\\lib\\site-packages\\seaborn\\utils.py:595\u001b[0m, in \u001b[0;36mload_dataset\u001b[1;34m(name, cache, data_home, **kws)\u001b[0m\n\u001b[0;32m    593\u001b[0m \u001b[39mif\u001b[39;00m \u001b[39mnot\u001b[39;00m os\u001b[39m.\u001b[39mpath\u001b[39m.\u001b[39mexists(cache_path):\n\u001b[0;32m    594\u001b[0m     \u001b[39mif\u001b[39;00m name \u001b[39mnot\u001b[39;00m \u001b[39min\u001b[39;00m get_dataset_names():\n\u001b[1;32m--> 595\u001b[0m         \u001b[39mraise\u001b[39;00m \u001b[39mValueError\u001b[39;00m(\u001b[39mf\u001b[39m\u001b[39m\"\u001b[39m\u001b[39m'\u001b[39m\u001b[39m{\u001b[39;00mname\u001b[39m}\u001b[39;00m\u001b[39m'\u001b[39m\u001b[39m is not one of the example datasets.\u001b[39m\u001b[39m\"\u001b[39m)\n\u001b[0;32m    596\u001b[0m     urlretrieve(url, cache_path)\n\u001b[0;32m    597\u001b[0m full_path \u001b[39m=\u001b[39m cache_path\n",
      "\u001b[1;31mValueError\u001b[0m: 'tmp3' is not one of the example datasets."
     ]
    }
   ],
   "source": [
    "dd=sns.load_dataset('tmp3')"
   ]
  },
  {
   "cell_type": "code",
   "execution_count": 45,
   "metadata": {},
   "outputs": [
    {
     "data": {
      "image/png": "[encoded data removed]",
      "text/plain": [
       "<Figure size 720x576 with 1 Axes>"
      ]
     },
     "metadata": {
      "needs_background": "light"
     },
     "output_type": "display_data"
    }
   ],
   "source": [
    "\n",
    "# plt.rcParams[\"figure.figsize\"] =(10, 8)\n",
    "sns.barplot(x='series', y='benefit', data=tmp3, palette='ocean_r')\n",
    "\n",
    "plt.xlabel(\"Series\")\n",
    "plt.ylabel(\"평\\n균\\n 수\\n익\\n률\\n\",fontsize=15,rotation=0,labelpad=20)\n",
    "plt.title(\"조던 시리즈별 평균 수익률\",loc=\"center\",fontsize=25,pad=15)\n",
    "plt.xticks(rotation=0)\n",
    "plt.yticks([0,50,100,150,200,250,300],['0','50%','100%','150%','200%','250%','300%'])\n",
    "\n",
    "plt.savefig('조던 시리즈별 평균 수익률.png')\n",
    "plt.show()"
   ]
  },
  {
   "cell_type": "code",
   "execution_count": 46,
   "metadata": {},
   "outputs": [
    {
     "data": {
      "image/png": "[encoded data removed]",
      "text/plain": [
       "<Figure size 720x576 with 1 Axes>"
      ]
     },
     "metadata": {
      "needs_background": "light"
     },
     "output_type": "display_data"
    }
   ],
   "source": [
    "sns.barplot(x='series', y='count', data=tmp1, palette='ocean_r')\n",
    "# plt.legend(labels = ['Retro','SP','OG','Others'], loc = 'best')\n",
    "plt.xlabel(\"Series\")\n",
    "plt.ylabel(\"개\\n수\",fontsize=15,rotation=0,labelpad=20)\n",
    "plt.title(\"조던 시리즈별 개수\",loc=\"center\",fontsize=25,pad=15)\n",
    "# ax = plt.gca()\n",
    "# ax.set_facecolor('#FAF5EF')\n",
    "plt.xticks(rotation=0)\n",
    "plt.yticks([0,100,200,300,400,500],['0','100개','200개','300개','400개','500개'])\n",
    "# ax = plt.gca()\n",
    "# ax.set_facecolor('#FAF5EF')\n",
    "plt.savefig('series_count.png')\n",
    "plt.show()\n"
   ]
  },
  {
   "cell_type": "code",
   "execution_count": null,
   "metadata": {},
   "outputs": [],
   "source": []
  }
 ],
 "metadata": {
  "kernelspec": {
   "display_name": "Python 3 (ipykernel)",
   "language": "python",
   "name": "python3"
  },
  "language_info": {
   "codemirror_mode": {
    "name": "ipython",
    "version": 3
   },
   "file_extension": ".py",
   "mimetype": "text/x-python",
   "name": "python",
   "nbconvert_exporter": "python",
   "pygments_lexer": "ipython3",
   "version": "3.9.12"
  },
  "vscode": {
   "interpreter": {
    "hash": "7166505faa8f697867ed099a47ad143e29bdea2dc2abec05983d875f808011d7"
   }
  }
 },
 "nbformat": 4,
 "nbformat_minor": 2
}
