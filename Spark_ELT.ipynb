{
 "cells": [
  {
   "cell_type": "markdown",
   "metadata": {},
   "source": [
    "# Spark를 통해 ELT 후 시각화\n",
    "E: extract\n",
    "L: load\n",
    "T: transform"
   ]
  },
  {
   "cell_type": "code",
   "execution_count": 33,
   "metadata": {},
   "outputs": [],
   "source": [
    "import pandas as pd\n",
    "# 한글깨짐 방지\n",
    "#!apt -qq -y install fonts-nanum > /dev/null\n",
    "import seaborn as sns\n",
    "import matplotlib.pyplot as plt\n",
    "import matplotlib.font_manager as fm\n",
    "import pandas as pd\n",
    "import numpy as np\n",
    "import matplotlib.pyplot as plt\n",
    "import seaborn as sns\n",
    "plt.rcParams['font.family'] = 'Malgun Gothic'"
   ]
  },
  {
   "cell_type": "code",
   "execution_count": 1,
   "metadata": {},
   "outputs": [],
   "source": [
    "import findspark\n",
    "\n",
    "findspark.init()"
   ]
  },
  {
   "cell_type": "code",
   "execution_count": 2,
   "metadata": {},
   "outputs": [],
   "source": [
    "import pymysql"
   ]
  },
  {
   "cell_type": "code",
   "execution_count": 3,
   "metadata": {},
   "outputs": [],
   "source": [
    "import pandas as pd\n",
    "import pymongo\n",
    "from pymongo import MongoClient"
   ]
  },
  {
   "cell_type": "code",
   "execution_count": 4,
   "metadata": {},
   "outputs": [
    {
     "name": "stderr",
     "output_type": "stream",
     "text": [
      "WARNING:root:'PYARROW_IGNORE_TIMEZONE' environment variable was not set. It is required to set this environment variable to '1' in both driver and executor sides if you use pyarrow>=2.0.0. pandas-on-Spark will set it for you but it does not work if there is a Spark context already launched.\n"
     ]
    }
   ],
   "source": [
    "import pyspark.pandas as ps"
   ]
  },
  {
   "cell_type": "code",
   "execution_count": 5,
   "metadata": {},
   "outputs": [],
   "source": [
    "from pyspark.sql import SparkSession\n",
    "# spark = SparkSession.builder.master(\"local\").appName(\"spark-dataframe\").getOrCreate()"
   ]
  },
  {
   "cell_type": "code",
   "execution_count": 6,
   "metadata": {},
   "outputs": [],
   "source": [
    "# from pyspark import SparkConf, SparkContext\n",
    "# conf = SparkConf().setMaster(\"local\").setAppName(\"spark_sql_basic\")\n",
    "# sc = SparkContext(conf=conf)"
   ]
  },
  {
   "cell_type": "code",
   "execution_count": 7,
   "metadata": {},
   "outputs": [],
   "source": [
    "# 데이터가 매우 큰 경우 강제로 사용할 메모리의 용량을 설정(기준 2기가)\n",
    "MAX_MEMORY = \"5g\" # 인스턴스에 여러명이 붙어 있어서 안될 수 있지만 단일 인스턴스 때 사용가능.\n",
    "\n",
    "spark = SparkSession.builder.appName(\"movie-recommendation\")\\\n",
    "     .config(\"spark.executor.memory\", MAX_MEMORY).config(\"spark.driver.memory\",MAX_MEMORY).getOrCreate()\n",
    "# 메모리 오류나면 이줄과 아래줄 주석처리진행."
   ]
  },
  {
   "cell_type": "code",
   "execution_count": 120,
   "metadata": {},
   "outputs": [],
   "source": [
    "file='C:/Users/psk/3rd_pj/kream_product2.csv'\n",
    "file1='C:/Users/psk/3rd_backup/kream_price.csv'\n",
    "file2='C:/Users/psk/3rd_backup/mysql_conn/Spark/series_benefit.csv'"
   ]
  },
  {
   "cell_type": "code",
   "execution_count": 140,
   "metadata": {},
   "outputs": [
    {
     "name": "stdout",
     "output_type": "stream",
     "text": [
      "+--------------------+--------+-------------------------+-------------+----------+------------+------------------+-------------+-----------------+------------------+--------------------+---+-----+---+---+---+---+-------+----+---+---+--------+--------+--------+--------+--------+--------+--------+--------+--------+---------+---------+---------+---------+---------+---------+---------+---------+---------+---------+---------+---------+---------+----+----+----+----+----+----+----+----+--------+------+----+----+----+----+--------+----+----+----+--------+----+------+----+----+----+------+----+----+----+------------+------------+-----+--------+--------------------+---------+--------+-----------+----+-----------------+-----------------+-------------+----+-------+-------------------+----------+-----------------+--------------+-----+-------+-----+--------------+-------------+-------------+--------+---+-------------+------------+----+---+--------+-----+------------+----------+----+-------------+-----------------------+---------------+----------+-----+----+---------------+---------+--------+---------+\n",
      "|                 _id|   brand|             prod_kr_name|rescent_price|  model_no|release_date|            colors|release_price|instant_buy_price|instant_sell_price|             img_url| OG|Retro| SP| QS| SB| SE|Chicago|High|Mid|Low|Jordan 1|Jordan 2|Jordan 3|Jordan 4|Jordan 5|Jordan 6|Jordan 7|Jordan 8|Jordan 9|Jordan 10|Jordan 11|Jordan 13|Jordan 14|Jordan 15|Jordan 16|Jordan 17|Jordan 18|Jordan 19|Jordan 20|Jordan 21|Jordan 22|Jordan 23|갈색|검정|고동|남색|노랑|모카|민트|발블|밝은회색|베이지|보라|분홍|빨강|살구|아이보리|연두|자몽|주황|진한회색|청록|청회색|초록|파랑|하늘|황갈색|황토|회색|흰색|Travis Scott|A Ma Maniere|Union|J Balvin|Maison Chateau Rouge|Off-White|Fragment|Trophy Room|Dior|Nina Chanel Abney|League of Legends|Billie Eilish|Clot|SoleFly|Paris Saint-Germain|Aleali May|Russell Westbrook|Lance Mountain|Patta|Supreme|Levis|Blue The Great|Ghetto Gastro|Social Status|Facetasm|SNS|Melody Ehsani|Anna Wintour|Kaws|DSM|Converse|Titan|Jayson Tatum|Olivia Kim|Nike|Sheila Rashid|Comme des Garcons Homme|Carmelo Anthony|Rag & Bone|Vogue|PSNY|Serena Williams|Pendleton|Carhartt|Rox Brown|\n",
      "+--------------------+--------+-------------------------+-------------+----------+------------+------------------+-------------+-----------------+------------------+--------------------+---+-----+---+---+---+---+-------+----+---+---+--------+--------+--------+--------+--------+--------+--------+--------+--------+---------+---------+---------+---------+---------+---------+---------+---------+---------+---------+---------+---------+---------+----+----+----+----+----+----+----+----+--------+------+----+----+----+----+--------+----+----+----+--------+----+------+----+----+----+------+----+----+----+------------+------------+-----+--------+--------------------+---------+--------+-----------+----+-----------------+-----------------+-------------+----+-------+-------------------+----------+-----------------+--------------+-----+-------+-----+--------------+-------------+-------------+--------+---+-------------+------------+----+---+--------+-----+------------+----------+----+-------------+-----------------------+---------------+----------+-----+----+---------------+---------+--------+---------+\n",
      "|Jordan 1 Low Vint...| Jordan |조던 1 로우 빈티지 그레이|       200000|553558-053|  2022-07-05| GREY/WHITE/CREAM |       129000|           202000|            201000|https://kream-phi...|  0|    0|  0|  0|  0|  0|      0|   0|  0|  1|       1|       0|       0|       0|       0|       0|       0|       0|       0|        0|        0|        0|        0|        0|        0|        0|        0|        0|        0|        0|        0|        0| 0.0| 0.0| 0.0| 0.0| 0.0| 0.0| 0.0| 0.0|     1.0|   0.0| 0.0| 0.0| 0.0| 0.0|     0.0| 0.0| 0.0| 0.0|     0.0| 0.0|   0.0| 0.0| 0.0| 0.0|   0.0| 0.0| 0.0| 0.0|           0|           0|    0|       0|                   0|        0|       0|          0|   0|                0|                0|            0|   0|      0|                  0|         0|                0|             0|    0|      0|    0|             0|            0|            0|       0|  0|            0|           0|   0|  0|       0|    0|           0|         0|   0|            0|                      0|              0|         0|    0|   0|              0|        0|       0|        0|\n",
      "+--------------------+--------+-------------------------+-------------+----------+------------+------------------+-------------+-----------------+------------------+--------------------+---+-----+---+---+---+---+-------+----+---+---+--------+--------+--------+--------+--------+--------+--------+--------+--------+---------+---------+---------+---------+---------+---------+---------+---------+---------+---------+---------+---------+---------+----+----+----+----+----+----+----+----+--------+------+----+----+----+----+--------+----+----+----+--------+----+------+----+----+----+------+----+----+----+------------+------------+-----+--------+--------------------+---------+--------+-----------+----+-----------------+-----------------+-------------+----+-------+-------------------+----------+-----------------+--------------+-----+-------+-----+--------------+-------------+-------------+--------+---+-------------+------------+----+---+--------+-----+------------+----------+----+-------------+-----------------------+---------------+----------+-----+----+---------------+---------+--------+---------+\n",
      "only showing top 1 row\n",
      "\n"
     ]
    }
   ],
   "source": [
    "id1 = spark.read.csv(f\"file:///{file}\",inferSchema=True, header=True)\n",
    "id1.show(1)\n"
   ]
  },
  {
   "cell_type": "code",
   "execution_count": 122,
   "metadata": {},
   "outputs": [
    {
     "name": "stdout",
     "output_type": "stream",
     "text": [
      "+--------------------+----------+----------+---------+---------+\n",
      "|                 _id|  model_no|last_price|max_price|min_price|\n",
      "+--------------------+----------+----------+---------+---------+\n",
      "|Jordan 1 Low Vint...|553558-053|    228000|   228000|   206000|\n",
      "|Jordan 1 x Travis...|DM7866-140|   1789000|  4000000|  1146000|\n",
      "|Jordan 1 Retro Hi...|555088-105|    825000|   897000|   304000|\n",
      "+--------------------+----------+----------+---------+---------+\n",
      "only showing top 3 rows\n",
      "\n"
     ]
    }
   ],
   "source": [
    "price1 = spark.read.csv(f\"file:///{file1}\",inferSchema=True, header=True)\n",
    "price1.show(3)"
   ]
  },
  {
   "cell_type": "code",
   "execution_count": 123,
   "metadata": {},
   "outputs": [
    {
     "name": "stdout",
     "output_type": "stream",
     "text": [
      "+--------------------+-------------+-------------+---+-----+---+---+---+---+----------+----------+---------+---------+------------------+\n",
      "|                 _id|rescent_price|release_price| OG|Retro| SP| QS| SB| SE|  model_no|last_price|max_price|min_price|           benefit|\n",
      "+--------------------+-------------+-------------+---+-----+---+---+---+---+----------+----------+---------+---------+------------------+\n",
      "|Jordan 1 Low Vint...|       200000|       129000|  0|    0|  0|  0|  0|  0|553558-053|  228000.0| 228000.0| 206000.0|176.74418604651163|\n",
      "|Jordan 1 x Travis...|      1555000|       189000|  1|    1|  1|  0|  0|  0|DM7866-140| 1789000.0|4000000.0|1146000.0| 946.5608465608465|\n",
      "|Jordan 1 Retro Hi...|       702000|       199000|  1|    1|  0|  0|  0|  0|555088-105|  825000.0| 897000.0| 304000.0|414.57286432160805|\n",
      "+--------------------+-------------+-------------+---+-----+---+---+---+---+----------+----------+---------+---------+------------------+\n",
      "only showing top 3 rows\n",
      "\n"
     ]
    }
   ],
   "source": [
    "benefit = spark.read.csv(f\"file:///{file2}\",inferSchema=True, header=True)\n",
    "benefit.show(3)"
   ]
  },
  {
   "cell_type": "code",
   "execution_count": 124,
   "metadata": {},
   "outputs": [],
   "source": [
    "id1.createOrReplaceTempView(\"id\")\n",
    "price1.createOrReplaceTempView(\"price\")\n",
    "benefit.createOrReplaceTempView(\"benefit\")"
   ]
  },
  {
   "cell_type": "code",
   "execution_count": 125,
   "metadata": {},
   "outputs": [
    {
     "name": "stdout",
     "output_type": "stream",
     "text": [
      "+--------------------+-------------+-------------+---+-----+---+\n",
      "|                 _id|rescent_price|release_price| OG|Retro| SP|\n",
      "+--------------------+-------------+-------------+---+-----+---+\n",
      "|Jordan 1 Low Vint...|       200000|       129000|  0|    0|  0|\n",
      "|Jordan 1 x Travis...|      1555000|       189000|  1|    1|  1|\n",
      "|Jordan 1 Retro Hi...|       702000|       199000|  1|    1|  0|\n",
      "|Jordan 4 Retro Wh...|       312000|       249000|  0|    1|  0|\n",
      "|Jordan 1 Retro Hi...|       244000|       209000|  1|    1|  0|\n",
      "|Jordan 1 Low Golf...|       336000|       179000|  0|    0|  0|\n",
      "|Jordan 1 Mid Ligh...|       215000|       149000|  0|    0|  0|\n",
      "|(W) Jordan 1 Elev...|       265000|       159000|  0|    0|  0|\n",
      "|Jordan 1 Retro Hi...|       387000|       199000|  1|    1|  0|\n",
      "|Jordan 1 Low OG S...|       372000|       159000|  1|    0|  0|\n",
      "|Jordan 1 Low Golf...|       352000|       179000|  0|    0|  0|\n",
      "|(W) Jordan 1 Low ...|       201000|       129000|  0|    0|  0|\n",
      "|(W) Jordan 1 Low ...|       345000|       119000|  0|    0|  0|\n",
      "|(W) Jordan 1 Low ...|       219000|       129000|  0|    0|  0|\n",
      "|Jordan 1 Low Golf...|       184000|       179000|  0|    0|  0|\n",
      "|(W) Jordan 1 Mid ...|       202000|       149000|  0|    0|  0|\n",
      "|(W) Jordan 1 Mid ...|       360000|       139000|  0|    0|  0|\n",
      "|Jordan 1 Low Golf...|       179000|       179000|  0|    0|  0|\n",
      "|Jordan 1 Low Golf...|       249000|       179000|  0|    0|  0|\n",
      "|Jordan 1 x A Ma M...|       295000|       239000|  1|    1|  1|\n",
      "+--------------------+-------------+-------------+---+-----+---+\n",
      "only showing top 20 rows\n",
      "\n"
     ]
    }
   ],
   "source": [
    "query='''select _id,rescent_price,release_price,OG,Retro,SP\n",
    "from id\n",
    "'''\n",
    "spark.sql(query).show()"
   ]
  },
  {
   "cell_type": "code",
   "execution_count": 126,
   "metadata": {},
   "outputs": [
    {
     "name": "stdout",
     "output_type": "stream",
     "text": [
      "+--------------------+---+-----+---+----------+----------+\n",
      "|                 _id| OG|Retro| SP|  model_no|last_price|\n",
      "+--------------------+---+-----+---+----------+----------+\n",
      "|Jordan 1 Low Vint...|  0|    0|  0|553558-053|    228000|\n",
      "|Jordan 1 x Travis...|  1|    1|  1|DM7866-140|   1789000|\n",
      "|Jordan 1 Retro Hi...|  1|    1|  0|555088-105|    825000|\n",
      "|Jordan 4 Retro Wh...|  0|    1|  0|DH6927-111|    309000|\n",
      "|Jordan 1 Retro Hi...|  1|    1|  0|555088-108|    294000|\n",
      "|Jordan 1 Low Golf...|  0|    0|  0|DD9315-002|    395000|\n",
      "|Jordan 1 Mid Ligh...|  0|    0|  0|554724-078|    210000|\n",
      "|(W) Jordan 1 Elev...|  0|    0|  0|DH7004-100|    260000|\n",
      "|Jordan 1 Retro Hi...|  1|    1|  0|555088-134|    780000|\n",
      "|Jordan 1 Low OG S...|  1|    0|  0|CZ0790-801|    385000|\n",
      "|Jordan 1 Low Golf...|  0|    0|  0|DD9315-600|    450000|\n",
      "|(W) Jordan 1 Low ...|  0|    0|  0|DC0774-041|    259000|\n",
      "|(W) Jordan 1 Low ...|  0|    0|  0|DC0774-105|    356000|\n",
      "|(W) Jordan 1 Low ...|  0|    0|  0|DC0774-114|    192000|\n",
      "|Jordan 1 Low Golf...|  0|    0|  0|DD9315-800|    319000|\n",
      "|(W) Jordan 1 Mid ...|  0|    0|  0|BQ6472-141|    194000|\n",
      "|(W) Jordan 1 Mid ...|  0|    0|  0|BQ6472-105|    290000|\n",
      "|Jordan 1 Low Golf...|  0|    0|  0|DD9315-101|    330000|\n",
      "|Jordan 1 Low Golf...|  0|    0|  0|DD9315-100|    290000|\n",
      "|Jordan 1 x A Ma M...|  1|    1|  1|DO7097-100|    260000|\n",
      "+--------------------+---+-----+---+----------+----------+\n",
      "only showing top 20 rows\n",
      "\n"
     ]
    }
   ],
   "source": [
    "# _id 와 price 조인\n",
    "query='''\n",
    "select A._id,A.OG,A.Retro,A.SP,B.model_no,B.last_price\n",
    "from(select _id,rescent_price,release_price,OG,Retro,SP\n",
    "from id) A\n",
    "left join price B\n",
    "on A._id=B._id\n",
    "'''\n",
    "t1 = spark.sql(query)\n",
    "t1.show()"
   ]
  },
  {
   "cell_type": "code",
   "execution_count": 127,
   "metadata": {},
   "outputs": [
    {
     "data": {
      "text/plain": [
       "222"
      ]
     },
     "execution_count": 127,
     "metadata": {},
     "output_type": "execute_result"
    }
   ],
   "source": [
    "t1.filter(\"OG=='1'\").count()"
   ]
  },
  {
   "cell_type": "code",
   "execution_count": 128,
   "metadata": {},
   "outputs": [
    {
     "name": "stdout",
     "output_type": "stream",
     "text": [
      "+--------+-----------+--------+\n",
      "|OG_count|Retro_count|SP_count|\n",
      "+--------+-----------+--------+\n",
      "|     222|       1600|      71|\n",
      "+--------+-----------+--------+\n",
      "\n"
     ]
    }
   ],
   "source": [
    "# series별 갯수세기\n",
    "# join 할 필요 없는데 연습겸\n",
    "query='''\n",
    "select sum(case when K._id like '%OG%' then 1 else 0 end) OG_count,\n",
    "\t   sum(case when K._id like '%Retro%' then 1 else 0 end) Retro_count,\n",
    "       sum(case when K._id like '%SP%' then 1 else 0 end) SP_count\n",
    "from(select A._id,A.OG,A.Retro,A.SP,B.model_no,B.last_price\n",
    "from(select _id,rescent_price,release_price,OG,Retro,SP\n",
    "from id) A\n",
    "left join price B\n",
    "on A._id=B._id) K\n",
    "'''\n",
    "spark.sql(query).show()\n"
   ]
  },
  {
   "cell_type": "code",
   "execution_count": 129,
   "metadata": {},
   "outputs": [
    {
     "name": "stdout",
     "output_type": "stream",
     "text": [
      "+--------------------+---+-----+---+----------+------------------+\n",
      "|                 _id| OG|Retro| SP|  model_no|           benefit|\n",
      "+--------------------+---+-----+---+----------+------------------+\n",
      "|Jordan 1 Low Vint...|  0|    0|  0|553558-053|176.74418604651163|\n",
      "|Jordan 1 x Travis...|  1|    1|  1|DM7866-140| 946.5608465608465|\n",
      "|Jordan 1 Retro Hi...|  1|    1|  0|555088-105|414.57286432160805|\n",
      "|Jordan 4 Retro Wh...|  0|    1|  0|DH6927-111|124.09638554216869|\n",
      "|Jordan 1 Retro Hi...|  1|    1|  0|555088-108|140.66985645933013|\n",
      "+--------------------+---+-----+---+----------+------------------+\n",
      "only showing top 5 rows\n",
      "\n"
     ]
    }
   ],
   "source": [
    "# series별 수익률을 알아보기\n",
    "# id와 benefit table 조인\n",
    "query='''\n",
    "select *\n",
    "from(select A._id,A.OG,A.Retro,A.SP,B.model_no,B.benefit\n",
    "from(select _id,rescent_price,release_price,OG,Retro,SP\n",
    "from id) A\n",
    "left join benefit B\n",
    "on A._id=B._id) K\n",
    "'''\n",
    "t2 = spark.sql(query)\n",
    "t2.show(5)"
   ]
  },
  {
   "cell_type": "code",
   "execution_count": 130,
   "metadata": {},
   "outputs": [
    {
     "name": "stdout",
     "output_type": "stream",
     "text": [
      "+------------------+\n",
      "|      avg(benefit)|\n",
      "+------------------+\n",
      "|277.82017824670066|\n",
      "+------------------+\n",
      "\n"
     ]
    }
   ],
   "source": [
    "# OG 시리즈 평균 수익률 확인\n",
    "query='''\n",
    "select avg(benefit)\n",
    "from(select A._id,A.OG,A.Retro,A.SP,B.model_no,B.benefit\n",
    "from(select _id,rescent_price,release_price,OG,Retro,SP\n",
    "from id) A\n",
    "left join benefit B\n",
    "on A._id=B._id) K\n",
    "group by OG\n",
    "having OG='1'\n",
    "'''\n",
    "spark.sql(query).show()\n"
   ]
  },
  {
   "cell_type": "code",
   "execution_count": 132,
   "metadata": {},
   "outputs": [
    {
     "name": "stdout",
     "output_type": "stream",
     "text": [
      "+---+-----------------+\n",
      "| OG|  avg(last_price)|\n",
      "+---+-----------------+\n",
      "|  1|695176.4705882353|\n",
      "|  0|311603.0341340076|\n",
      "+---+-----------------+\n",
      "\n"
     ]
    }
   ],
   "source": [
    "t1.groupby('OG').mean('last_price').show()"
   ]
  },
  {
   "cell_type": "code",
   "execution_count": 133,
   "metadata": {},
   "outputs": [
    {
     "name": "stdout",
     "output_type": "stream",
     "text": [
      "+-----+-----------------+\n",
      "|Retro|  avg(last_price)|\n",
      "+-----+-----------------+\n",
      "|    1|439956.3318777293|\n",
      "|    0|282530.9734513274|\n",
      "+-----+-----------------+\n",
      "\n"
     ]
    }
   ],
   "source": [
    "t1.groupby('Retro').mean('last_price').show()"
   ]
  },
  {
   "cell_type": "code",
   "execution_count": 134,
   "metadata": {},
   "outputs": [
    {
     "name": "stdout",
     "output_type": "stream",
     "text": [
      "+---+-----------------+\n",
      "| SP|  avg(last_price)|\n",
      "+---+-----------------+\n",
      "|  1|648763.1578947369|\n",
      "|  0|349255.7339449541|\n",
      "+---+-----------------+\n",
      "\n"
     ]
    }
   ],
   "source": [
    "t1.groupby('SP').mean('last_price').show()"
   ]
  },
  {
   "cell_type": "code",
   "execution_count": 135,
   "metadata": {},
   "outputs": [
    {
     "data": {
      "text/plain": [
       "[('Retro', '458'), ('SP', '38'), ('OG', '119'), ('Others', '290')]"
      ]
     },
     "execution_count": 135,
     "metadata": {},
     "output_type": "execute_result"
    }
   ],
   "source": [
    "sample_1 = [('Retro','458'),('SP','38'),('OG','119'),('Others','290')]\n",
    "sample_1"
   ]
  },
  {
   "cell_type": "code",
   "execution_count": 136,
   "metadata": {},
   "outputs": [],
   "source": [
    "sample_2={'series':['Retro','SP','OG'],\n",
    "          'count':[1600,71,222]}"
   ]
  },
  {
   "cell_type": "code",
   "execution_count": 137,
   "metadata": {},
   "outputs": [
    {
     "name": "stdout",
     "output_type": "stream",
     "text": [
      "+------+-----+\n",
      "|series|count|\n",
      "+------+-----+\n",
      "| Retro| 1600|\n",
      "|    SP|   71|\n",
      "|    OG|  222|\n",
      "+------+-----+\n",
      "\n"
     ]
    }
   ],
   "source": [
    "tmp2 = pd.DataFrame(sample_2)\n",
    "series_sdf=spark.createDataFrame(tmp2)\n",
    "series_sdf.show()"
   ]
  },
  {
   "cell_type": "code",
   "execution_count": 138,
   "metadata": {},
   "outputs": [],
   "source": [
    "sample_3={'series':['Retro','SP','OG'],\n",
    "          'benefit':[203,290,277]}"
   ]
  },
  {
   "cell_type": "code",
   "execution_count": 112,
   "metadata": {},
   "outputs": [
    {
     "name": "stdout",
     "output_type": "stream",
     "text": [
      "+------+-------+\n",
      "|series|benefit|\n",
      "+------+-------+\n",
      "| Retro|    203|\n",
      "|    SP|    290|\n",
      "|    OG|    277|\n",
      "+------+-------+\n",
      "\n"
     ]
    }
   ],
   "source": [
    "tmp3 = pd.DataFrame(sample_3)\n",
    "series_3=spark.createDataFrame(tmp3)\n",
    "series_3.show()"
   ]
  },
  {
   "cell_type": "code",
   "execution_count": 118,
   "metadata": {},
   "outputs": [
    {
     "data": {
      "image/png": "[encoded data removed]",
      "text/plain": [
       "<Figure size 864x720 with 1 Axes>"
      ]
     },
     "metadata": {},
     "output_type": "display_data"
    }
   ],
   "source": [
    "series=['Retro','OG','SP']\n",
    "\n",
    "\n",
    "colors = sns.color_palette('ocean_r',len(tmp3))\n",
    "\n",
    "fig = plt.figure(figsize=(12,10)) ## 캔버스 생성\n",
    "fig.set_facecolor('white') ## 캔버스 색상 설정\n",
    "ax = fig.add_subplot() ## 프레임(그림 뼈대) 생성\n",
    "\n",
    "# sns.barplot(x='series', y='count', data=tmp2, color=colors)\n",
    "\n",
    "bars = ax.bar(tmp3['series'],tmp3['benefit'],color=colors)\n",
    "\n",
    "prop = dict(\n",
    "    family='fantasy', # 글씨체\n",
    "    style='italic', # 글씨 형식 - 이탤릭형식\n",
    "    size=20) # 글씨 크기\n",
    "ax.legend(handles=bars,labels=list(tmp3['series']),prop=prop)\n",
    "\n",
    "plt.xlabel(\"Series\",fontsize=25)\n",
    "plt.ylabel(\"평\\n균\\n 수\\n익\\n률\\n\",fontsize=15,rotation=0,labelpad=20)\n",
    "plt.title(\"조던 시리즈별 평균 수익률\",loc=\"center\",fontsize=25,pad=15)\n",
    "# ax = plt.gca()\n",
    "# ax.set_facecolor('#FAF5EF')\n",
    "plt.xticks(rotation=0,fontsize=20)\n",
    "plt.yticks([0,50,100,150,200,250,300],['0','50%','100%','150%','200%','250%','300%'],fontsize=15)\n",
    "# ax = plt.gca()\n",
    "# ax.set_facecolor('#FAF5EF')\n",
    "plt.savefig('조던 시리즈별 평균 수익률.png')\n",
    "plt.show()\n"
   ]
  },
  {
   "cell_type": "code",
   "execution_count": 119,
   "metadata": {},
   "outputs": [
    {
     "data": {
      "image/png": "[encoded data removed]",
      "text/plain": [
       "<Figure size 864x720 with 1 Axes>"
      ]
     },
     "metadata": {},
     "output_type": "display_data"
    }
   ],
   "source": [
    "series=['Retro','OG','SP']\n",
    "\n",
    "\n",
    "colors = sns.color_palette('ocean_r',len(tmp2))\n",
    "\n",
    "fig = plt.figure(figsize=(12,10)) ## 캔버스 생성\n",
    "fig.set_facecolor('white') ## 캔버스 색상 설정\n",
    "ax = fig.add_subplot() ## 프레임(그림 뼈대) 생성\n",
    "\n",
    "# sns.barplot(x='series', y='count', data=tmp2, color=colors)\n",
    "\n",
    "bars = ax.bar(tmp2['series'],tmp2['count'],color=colors)\n",
    "\n",
    "prop = dict(\n",
    "    family='fantasy', # 글씨체\n",
    "    style='italic', # 글씨 형식 - 이탤릭형식\n",
    "    size=20) # 글씨 크기\n",
    "ax.legend(handles=bars,labels=list(tmp2['series']),prop=prop)\n",
    "\n",
    "plt.xlabel(\"Series\",fontsize=25)\n",
    "plt.ylabel(\"개\\n수\",fontsize=15,rotation=0,labelpad=20)\n",
    "plt.title(\"조던 시리즈별 개수\",loc=\"center\",fontsize=25,pad=5)\n",
    "# ax = plt.gca()\n",
    "# ax.set_facecolor('#FAF5EF')\n",
    "plt.xticks(rotation=0,fontsize=20)\n",
    "plt.yticks([0,100,300,800,1200,1600],['0','100개','300개','800개','1200개','1600개'],fontsize=15)\n",
    "# ax = plt.gca()\n",
    "# ax.set_facecolor('#FAF5EF')\n",
    "plt.savefig('total_count.png')\n",
    "plt.show()\n"
   ]
  },
  {
   "cell_type": "code",
   "execution_count": null,
   "metadata": {},
   "outputs": [],
   "source": []
  }
 ],
 "metadata": {
  "kernelspec": {
   "display_name": "Python 3.9.12 ('base')",
   "language": "python",
   "name": "python3"
  },
  "language_info": {
   "codemirror_mode": {
    "name": "ipython",
    "version": 3
   },
   "file_extension": ".py",
   "mimetype": "text/x-python",
   "name": "python",
   "nbconvert_exporter": "python",
   "pygments_lexer": "ipython3",
   "version": "3.9.12"
  },
  "orig_nbformat": 4,
  "vscode": {
   "interpreter": {
    "hash": "7166505faa8f697867ed099a47ad143e29bdea2dc2abec05983d875f808011d7"
   }
  }
 },
 "nbformat": 4,
 "nbformat_minor": 2
}
